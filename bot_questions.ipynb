{
 "cells": [
  {
   "cell_type": "markdown",
   "id": "amazing-lounge",
   "metadata": {},
   "source": [
    "## 1. bot_questions.py\n",
    "\n",
    "programatically or manually generate a file \"questions.csv\" with formatted sample questions"
   ]
  },
  {
   "cell_type": "code",
   "execution_count": null,
   "id": "advised-oxide",
   "metadata": {},
   "outputs": [],
   "source": [
    "import pandas as pd"
   ]
  },
  {
   "cell_type": "code",
   "execution_count": null,
   "id": "verified-profile",
   "metadata": {},
   "outputs": [],
   "source": [
    "df = pd.read_csv(\"https://raw.githubusercontent.com/chateval/archive/master/eval_data/ncm/neural_conv_model_eval_source.txt\",\n",
    "                 delimiter='^',header=None,names=['Question'])"
   ]
  },
  {
   "cell_type": "code",
   "execution_count": null,
   "id": "annoying-arrival",
   "metadata": {},
   "outputs": [],
   "source": [
    "df2 = pd.read_csv(\"https://raw.githubusercontent.com/chateval/archive/master/eval_data/ncm/neural_conv_model_eval_responses_human_2.txt\",\n",
    "                 delimiter='^',header=None,names=['Answer'])"
   ]
  },
  {
   "cell_type": "code",
   "execution_count": null,
   "id": "virgin-atlas",
   "metadata": {},
   "outputs": [],
   "source": [
    "pd.concat([df, df2], axis=1, join=\"inner\").to_csv(\"data/questions.csv\", index=False) #do not run"
   ]
  },
  {
   "cell_type": "code",
   "execution_count": null,
   "id": "lesser-texture",
   "metadata": {},
   "outputs": [],
   "source": [
    "df = pd.read_csv(\"data/questions.csv\")\n",
    "df['Vote1'] = 0\n",
    "df['Vote2'] = 0\n",
    "df['Vote3'] = 0\n",
    "df.to_csv(\"data/votes.csv\", index=False)"
   ]
  },
  {
   "cell_type": "markdown",
   "id": "adequate-juvenile",
   "metadata": {},
   "source": [
    "## "
   ]
  },
  {
   "cell_type": "markdown",
   "id": "functioning-release",
   "metadata": {},
   "source": [
    "## 2. bot_test.py"
   ]
  },
  {
   "cell_type": "code",
   "execution_count": null,
   "id": "chicken-verse",
   "metadata": {},
   "outputs": [],
   "source": [
    "import pandas as pd"
   ]
  },
  {
   "cell_type": "code",
   "execution_count": null,
   "id": "third-disability",
   "metadata": {},
   "outputs": [],
   "source": [
    "df = pd.read_csv(\"data/questions.csv\")"
   ]
  },
  {
   "cell_type": "code",
   "execution_count": null,
   "id": "polyphonic-discretion",
   "metadata": {},
   "outputs": [],
   "source": [
    "## loop through first 5 rows,\n",
    "## no need to do this, use \"lambda\" instead\n",
    "for index, row in df[:5].iterrows():\n",
    "    print(row['Question'], row['Answer'])"
   ]
  },
  {
   "cell_type": "code",
   "execution_count": null,
   "id": "union-jimmy",
   "metadata": {},
   "outputs": [],
   "source": [
    "from transformers import AutoModelForCausalLM, AutoTokenizer, BlenderbotTokenizer, BlenderbotForConditionalGeneration\n",
    "import torch\n",
    "import IProgress\n",
    "import requests\n",
    "import json\n",
    "def model1(q):\n",
    "    url = 'http://02ac-69-115-7-84.ngrok.io/webhooks/rest/webhook'\n",
    "    x = requests.post(url, json = {\"message\": q})\n",
    "    a = json.loads(x.text)\n",
    "    for i in a:\n",
    "        res = i['text']\n",
    "        print(res)\n",
    "        return res\n",
    "def model2(q):  #https://huggingface.co/microsoft/DialoGPT-medium\n",
    "    tokenizer = AutoTokenizer.from_pretrained(\"microsoft/DialoGPT-medium\")\n",
    "    model = AutoModelForCausalLM.from_pretrained(\"microsoft/DialoGPT-medium\")\n",
    "    # encode the new user input, add the eos_token and return a tensor in Pytorch\n",
    "    new_user_input_ids = tokenizer.encode(q + tokenizer.eos_token, return_tensors='pt')\n",
    "    # append the new user input tokens to the chat history\n",
    "    bot_input_ids = new_user_input_ids\n",
    "    # generated a response while limiting the total chat history to 1000 tokens, \n",
    "    chat_history_ids = model.generate(bot_input_ids, max_length=1000, pad_token_id=tokenizer.eos_token_id)\n",
    "    # pretty print last ouput tokens from bot\n",
    "    print(\"DialoGPT: {}\".format(tokenizer.decode(chat_history_ids[:, bot_input_ids.shape[-1]:][0], skip_special_tokens=True)))\n",
    "    return tokenizer.decode(chat_history_ids[:, bot_input_ids.shape[-1]:][0], skip_special_tokens=True)\n",
    "def model3(q):\n",
    "    mname = 'facebook/blenderbot-400M-distill'\n",
    "    bbmodel = BlenderbotForConditionalGeneration.from_pretrained(mname)\n",
    "    tokenizer = BlenderbotTokenizer.from_pretrained(mname)\n",
    "    inputs = tokenizer([q], return_tensors='pt')\n",
    "    reply_ids = bbmodel.generate(**inputs)\n",
    "    msg = tokenizer.batch_decode(reply_ids)[0].replace(\"<s>\", \"\").replace(\"</s>\", \"\")\n",
    "    print(msg)\n",
    "    return msg"
   ]
  },
  {
   "cell_type": "code",
   "execution_count": null,
   "id": "eastern-leeds",
   "metadata": {
    "scrolled": true
   },
   "outputs": [],
   "source": [
    "df['Answer_Model1'] = df.apply(lambda row : model1(row['Question']), axis = 1)\n",
    "df['Answer_Model2'] = df.apply(lambda row : model2(row['Question']), axis = 1)\n",
    "df['Answer_Model3'] = df.apply(lambda row : model3(row['Question']), axis = 1)"
   ]
  },
  {
   "cell_type": "code",
   "execution_count": null,
   "id": "hispanic-drive",
   "metadata": {},
   "outputs": [],
   "source": [
    "df['Answer_Model1'] = df.apply(lambda row : model1(row['Question']), axis = 1)"
   ]
  },
  {
   "cell_type": "code",
   "execution_count": null,
   "id": "interracial-malawi",
   "metadata": {},
   "outputs": [],
   "source": [
    "df['Answer_Model2'] = df.apply(lambda row : model2(row['Question']), axis = 1)"
   ]
  },
  {
   "cell_type": "code",
   "execution_count": null,
   "id": "interpreted-publicity",
   "metadata": {},
   "outputs": [],
   "source": [
    "df['Answer_Model3'] = df.apply(lambda row : model3(row['Question']), axis = 1)"
   ]
  },
  {
   "cell_type": "code",
   "execution_count": null,
   "id": "attached-newark",
   "metadata": {},
   "outputs": [],
   "source": [
    "df"
   ]
  },
  {
   "cell_type": "code",
   "execution_count": null,
   "id": "partial-shelf",
   "metadata": {},
   "outputs": [],
   "source": [
    "df.to_csv(\"data/model_answers.csv\", index=False)"
   ]
  },
  {
   "cell_type": "markdown",
   "id": "organized-momentum",
   "metadata": {},
   "source": [
    "## 3. bot_survey.py (Streamlit App)"
   ]
  },
  {
   "cell_type": "markdown",
   "id": "nervous-membership",
   "metadata": {},
   "source": [
    "## 4. bot_grading.py"
   ]
  },
  {
   "cell_type": "code",
   "execution_count": null,
   "id": "blind-string",
   "metadata": {},
   "outputs": [],
   "source": [
    "import pandas as pd\n",
    "df = pd.read_csv(\"data/model_answers_standard.csv\")"
   ]
  },
  {
   "cell_type": "code",
   "execution_count": null,
   "id": "mental-tenant",
   "metadata": {},
   "outputs": [],
   "source": [
    "df[:3]"
   ]
  },
  {
   "cell_type": "code",
   "execution_count": null,
   "id": "silver-hotel",
   "metadata": {},
   "outputs": [],
   "source": [
    "from sentence_transformers import SentenceTransformer, util\n",
    "import numpy as np\n",
    "# model = SentenceTransformer('stsb-roberta-large')\n",
    "# sentence1 = \"I like Python because I can build AI applications\"\n",
    "# sentence2 = \"I like Python because I can do data analytics\"\n",
    "# # encode sentences to get their embeddings\n",
    "# embedding1 = model.encode(sentence1, convert_to_tensor=True)\n",
    "# embedding2 = model.encode(sentence2, convert_to_tensor=True)\n",
    "# # compute similarity scores of two embeddings\n",
    "# cosine_scores = util.pytorch_cos_sim(embedding1, embedding2)\n",
    "# print(\"Sentence 1:\", sentence1)\n",
    "# print(\"Sentence 2:\", sentence2)\n",
    "# print(\"Similarity score:\", cosine_scores.item())\n",
    "def score(v1, v2): #monrovia, Noun: the capital and chief port and largest city of Liberia \n",
    "    model = SentenceTransformer('paraphrase-mpnet-base-v2')\n",
    "    # encode sentences to get their embeddings\n",
    "    v1 = str(v1)\n",
    "    v2 = str(v2)\n",
    "    print(\"Doing Embeddings of \" +v1 +\" and \" + v2)\n",
    "    embedding1 = model.encode(v1, convert_to_tensor=True)\n",
    "    print(\"first one done\")\n",
    "    embedding2 = model.encode(v2, convert_to_tensor=True)\n",
    "    print(\"embeddings done\")\n",
    "    # compute similarity scores of two embeddings\n",
    "    cosine_scores = util.pytorch_cos_sim(embedding1, embedding2)\n",
    "    print(\"Sentence 1:\", v1)\n",
    "    print(\"Sentence 2:\", v2)\n",
    "    print(\"Similarity score:\", cosine_scores.item())\n",
    "    return cosine_scores.item()"
   ]
  },
  {
   "cell_type": "code",
   "execution_count": null,
   "id": "better-component",
   "metadata": {},
   "outputs": [],
   "source": [
    "df['score1'] = df.apply(lambda row : score(row['Answer_Model1'],row['Answer']), axis = 1)\n",
    "df['score2'] = df.apply(lambda row : score(row['Answer_Model2'],row['Answer']), axis = 1)\n",
    "df['score3'] = df.apply(lambda row : score(row['Answer_Model3'],row['Answer']), axis = 1)"
   ]
  },
  {
   "cell_type": "code",
   "execution_count": null,
   "id": "preceding-poison",
   "metadata": {},
   "outputs": [],
   "source": [
    "df['score1'] = df.apply(lambda row : score(row['Answer_Model1'],row['Answer']), axis = 1)"
   ]
  },
  {
   "cell_type": "code",
   "execution_count": null,
   "id": "former-taste",
   "metadata": {},
   "outputs": [],
   "source": [
    "df[:10]"
   ]
  },
  {
   "cell_type": "code",
   "execution_count": null,
   "id": "polyphonic-enzyme",
   "metadata": {},
   "outputs": [],
   "source": [
    "df.to_csv(\"data/rated_answers.csv\", index=False)"
   ]
  },
  {
   "cell_type": "markdown",
   "id": "cooperative-apache",
   "metadata": {},
   "source": [
    "### Chungus"
   ]
  },
  {
   "cell_type": "code",
   "execution_count": 30,
   "id": "composed-automation",
   "metadata": {},
   "outputs": [
    {
     "name": "stdout",
     "output_type": "stream",
     "text": [
      "Overall automated scores:\n",
      "0.4639626901944057\n",
      "0.3869143935646546\n",
      "0.47386087726612214\n",
      "Conversational Subset\n",
      "0.23995939940214156\n",
      "0.392014766857028\n",
      "0.35875635631382463\n",
      "General Knowledge Subset\n",
      "0.5353623047274979\n",
      "0.47051736153662205\n",
      "0.5890043396502733\n",
      "Domain-Specific Subset\n",
      "0.6080217756227486\n",
      "0.3032308214654525\n",
      "0.43904247548845077\n",
      "Overall human-based scores:\n",
      "111\n",
      "52\n",
      "71\n",
      "Conversational Subset\n",
      "40\n",
      "24\n",
      "25\n",
      "General Knowledge Subset\n",
      "28\n",
      "12\n",
      "23\n",
      "Domain Specific Subset\n",
      "35\n",
      "14\n",
      "17\n"
     ]
    }
   ],
   "source": [
    "\n",
    "from statistics import mean\n",
    "import pandas as pd\n",
    "df = pd.read_csv(\"data/rated_answers.csv\")\n",
    "print(\"Overall automated scores:\")\n",
    "print(df['score1'].mean())\n",
    "print(df['score2'].mean())\n",
    "print(df['score3'].mean())\n",
    "print(\"Conversational Subset\")\n",
    "print(df['score1'][0:20].mean())\n",
    "print(df['score2'][0:20].mean())\n",
    "print(df['score3'][0:20].mean())\n",
    "print(\"General Knowledge Subset\")\n",
    "print(df['score1'][21:40].mean())\n",
    "print(df['score2'][21:40].mean())\n",
    "print(df['score3'][21:40].mean())\n",
    "print(\"Domain-Specific Subset\")\n",
    "print(df['score1'][41:60].mean())\n",
    "print(df['score2'][41:60].mean())\n",
    "print(df['score3'][41:60].mean())\n",
    "df2 = pd.read_csv(\"data/votes.csv\")\n",
    "print(\"Overall human-based scores:\")\n",
    "print(df2['Vote1'].sum())\n",
    "print(df2['Vote2'].sum())\n",
    "print(df2['Vote3'].sum())\n",
    "print(\"Conversational Subset\")\n",
    "print(df2['Vote1'][0:20].sum())\n",
    "print(df2['Vote2'][0:20].sum())\n",
    "print(df2['Vote3'][0:20].sum())\n",
    "print(\"General Knowledge Subset\")\n",
    "print(df2['Vote1'][21:40].sum())\n",
    "print(df2['Vote2'][21:40].sum())\n",
    "print(df2['Vote3'][21:40].sum())\n",
    "print(\"Domain Specific Subset\")\n",
    "print(df2['Vote1'][41:60].sum())\n",
    "print(df2['Vote2'][41:60].sum())\n",
    "print(df2['Vote3'][41:60].sum())"
   ]
  },
  {
   "cell_type": "code",
   "execution_count": null,
   "id": "gross-contamination",
   "metadata": {},
   "outputs": [],
   "source": [
    "import pandas as pd\n",
    "df = pd.DataFrame(columns = ['Time', 'Count', 'Number','Session'])\n",
    "df.to_csv(\"data/timestamps.csv\", index=False)"
   ]
  },
  {
   "cell_type": "code",
   "execution_count": 1,
   "id": "successful-india",
   "metadata": {},
   "outputs": [
    {
     "data": {
      "text/plain": [
       "array([ 50353, 389030, 266053,  52133,  90408,  68047, 366892, 805414,\n",
       "       220232, 134150, 835556, 589673, 952646, 460388, 202229])"
      ]
     },
     "execution_count": 1,
     "metadata": {},
     "output_type": "execute_result"
    }
   ],
   "source": [
    "\n",
    "from statistics import mean\n",
    "import pandas as pd\n",
    "df = pd.read_csv(\"data/timestamps.csv\")\n",
    "df['Session'].unique()"
   ]
  }
 ],
 "metadata": {
  "kernelspec": {
   "display_name": "Python 3",
   "language": "python",
   "name": "python3"
  },
  "language_info": {
   "codemirror_mode": {
    "name": "ipython",
    "version": 3
   },
   "file_extension": ".py",
   "mimetype": "text/x-python",
   "name": "python",
   "nbconvert_exporter": "python",
   "pygments_lexer": "ipython3",
   "version": "3.8.6"
  }
 },
 "nbformat": 4,
 "nbformat_minor": 5
}
